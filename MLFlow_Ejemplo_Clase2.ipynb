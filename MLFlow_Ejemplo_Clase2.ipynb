{
 "cells": [
  {
   "cell_type": "markdown",
   "id": "f98dcd10",
   "metadata": {},
   "source": [
    "# 📓 MLflow - Ejemplos básicos\n",
    "# \n",
    "En esta notebook veremos ejemplos sencillos de:\n",
    "- MLflow Tracking\n",
    "- MLflow Projects\n",
    "- MLflow Models\n",
    "- MLflow Model Registry\n",
    "\n",
    "## Instalación y configuración inicial\n",
    "Instalación de MLflow (descomentar si no lo tienes instalado)\n",
    "!pip install mlflow\n"
   ]
  },
  {
   "cell_type": "code",
   "id": "fc406509",
   "metadata": {
    "ExecuteTime": {
     "end_time": "2025-05-14T22:26:40.300933Z",
     "start_time": "2025-05-14T22:26:40.288717Z"
    }
   },
   "source": [
    "# ========================\n",
    "# MLflow - Ejemplos básicos\n",
    "# ========================\n",
    "\n",
    "# Instalación (si es necesario)\n",
    "# !pip install mlflow\n",
    "\n",
    "import mlflow\n",
    "import mlflow.sklearn\n",
    "from sklearn.linear_model import LinearRegression\n",
    "from sklearn.datasets import make_regression\n",
    "from sklearn.model_selection import train_test_split\n",
    "import os\n",
    "import yaml\n",
    "import pandas as pd\n",
    "# Crear carpeta para artefactos si no existe\n",
    "os.makedirs(\"outputs\", exist_ok=True)\n"
   ],
   "outputs": [],
   "execution_count": 28
  },
  {
   "cell_type": "markdown",
   "id": "e03fc250",
   "metadata": {},
   "source": [
    "## 🧩 1. MLflow Tracking\n",
    " \n",
    "### 📄 Descripción\n",
    "Con **MLflow Tracking** registramos:\n",
    " - Parámetros (por ejemplo, hiperparámetros de un modelo).\n",
    " - Métricas (precisión, error, R2, etc.).\n",
    " - Artefactos (modelos entrenados, imágenes, datasets).\n",
    " \n",
    "Todo queda guardado en un historial organizado para análisis y comparación.\n"
   ]
  },
  {
   "cell_type": "markdown",
   "id": "3b966091",
   "metadata": {},
   "source": [
    "## Nombre del proyecto y url de MLFlow local"
   ]
  },
  {
   "cell_type": "markdown",
   "id": "3c5f06ba",
   "metadata": {},
   "source": [
    "## Datos de entrenamiento"
   ]
  },
  {
   "cell_type": "code",
   "id": "67a3ecac",
   "metadata": {
    "ExecuteTime": {
     "end_time": "2025-05-14T22:26:40.344326Z",
     "start_time": "2025-05-14T22:26:40.326249Z"
    }
   },
   "source": [
    "# Datos ficticios\n",
    "X, y = make_regression(n_samples=100, n_features=1, noise=0.1, random_state=42)\n",
    "X_train, X_test, y_train, y_test = train_test_split(X, y, random_state=42)\n",
    "\n",
    "# 2. Guardar los datasets como CSV\n",
    "os.makedirs(\"data\", exist_ok=True)\n",
    "pd.DataFrame(X_train, columns=[\"x\"]).to_csv(\"data/X_train.csv\", index=False)\n",
    "pd.DataFrame(X_test, columns=[\"x\"]).to_csv(\"data/X_test.csv\", index=False)\n",
    "pd.DataFrame(y_train, columns=[\"y\"]).to_csv(\"data/y_train.csv\", index=False)\n",
    "pd.DataFrame(y_test, columns=[\"y\"]).to_csv(\"data/y_test.csv\", index=False)\n"
   ],
   "outputs": [],
   "execution_count": 29
  },
  {
   "cell_type": "markdown",
   "id": "687cfa66",
   "metadata": {},
   "source": [
    "## Experimento 1"
   ]
  },
  {
   "cell_type": "code",
   "id": "3e3914f3",
   "metadata": {
    "ExecuteTime": {
     "end_time": "2025-05-14T22:26:40.365372Z",
     "start_time": "2025-05-14T22:26:40.355586Z"
    }
   },
   "source": [
    "#mlflow.set_tracking_uri(\"http://localhost:5000\")  # o la IP donde esté el Docker\n",
    "mlflow.set_experiment(\"Experimento 1\")"
   ],
   "outputs": [
    {
     "name": "stderr",
     "output_type": "stream",
     "text": [
      "2025/05/14 19:26:40 INFO mlflow.tracking.fluent: Experiment with name 'Experimento 1' does not exist. Creating a new experiment.\n"
     ]
    },
    {
     "data": {
      "text/plain": [
       "<Experiment: artifact_location='file:///Users/fmeola/git/MLOps/mlruns/533253771556407989', creation_time=1747261600361, experiment_id='533253771556407989', last_update_time=1747261600361, lifecycle_stage='active', name='Experimento 1', tags={}>"
      ]
     },
     "execution_count": 30,
     "metadata": {},
     "output_type": "execute_result"
    }
   ],
   "execution_count": 30
  },
  {
   "cell_type": "code",
   "id": "b3607504",
   "metadata": {
    "ExecuteTime": {
     "end_time": "2025-05-14T22:26:42.768172Z",
     "start_time": "2025-05-14T22:26:40.382045Z"
    }
   },
   "source": [
    "# Ejemplo sencillo de Tracking\n",
    "\n",
    "#mlflow.end_run()\n",
    "# Empezar una corrida (run)\n",
    "with mlflow.start_run(run_name=\"linear_regression_example 2\"):\n",
    "    # Modelo\n",
    "    model = LinearRegression()\n",
    "    model.fit(X_train, y_train)\n",
    "    \n",
    "    # Parámetro (en este caso no hay hiperparámetros, así que lo simulamos)\n",
    "    mlflow.log_param(\"model_type\", \"LinearRegression\")\n",
    "    \n",
    "    # Métrica\n",
    "    score = model.score(X_test, y_test)\n",
    "    mlflow.log_metric(\"r2_score\", score)\n",
    "    \n",
    "    # Guardar el modelo\n",
    "    mlflow.sklearn.log_model(model, artifact_path=\"model\")\n",
    "    \n",
    "    print(f\"Modelo guardado con R2: {score:.2f}\")\n"
   ],
   "outputs": [
    {
     "name": "stderr",
     "output_type": "stream",
     "text": [
      "\u001B[31m2025/05/14 19:26:42 WARNING mlflow.models.model: Model logged without a signature and input example. Please set `input_example` parameter when logging the model to auto infer the model signature.\u001B[0m\n"
     ]
    },
    {
     "name": "stdout",
     "output_type": "stream",
     "text": [
      "Modelo guardado con R2: 1.00\n"
     ]
    }
   ],
   "execution_count": 31
  },
  {
   "cell_type": "code",
   "id": "125efc2c",
   "metadata": {
    "ExecuteTime": {
     "end_time": "2025-05-14T22:26:47.612272Z",
     "start_time": "2025-05-14T22:26:42.783563Z"
    }
   },
   "source": [
    "from sklearn.linear_model import Ridge\n",
    "\n",
    "with mlflow.start_run(run_name=\"ridge_regression_example 3\"):\n",
    "    alpha = 0.7\n",
    "    model = Ridge(alpha=alpha)\n",
    "    model.fit(X_train, y_train)\n",
    "\n",
    "    mlflow.log_param(\"model_type\", \"Ridge\")\n",
    "    mlflow.log_param(\"alpha\", alpha)\n",
    "\n",
    "    score = model.score(X_test, y_test)\n",
    "    mlflow.log_metric(\"r2_score\", score)\n",
    "\n",
    "    mlflow.sklearn.log_model(model, artifact_path=\"model\")\n",
    "    print(f\"Modelo Ridge guardado con R2: {score:.2f}\")\n",
    "    X_train_path = \"data/X_train.csv\"\n",
    "    X_test_path = \"data/X_test.csv\"\n",
    "    y_train_path = \"data/y_train.csv\"\n",
    "    y_test_path = \"data/y_test.csv\"\n",
    "    mlflow.log_artifact(X_train_path, artifact_path=\"datasets\")\n",
    "    mlflow.log_artifact(X_test_path, artifact_path=\"datasets\")\n",
    "    mlflow.log_artifact(y_train_path, artifact_path=\"datasets\")\n",
    "    mlflow.log_artifact(y_test_path, artifact_path=\"datasets\")\n",
    "\n",
    "mlflow.sklearn.log_model(model, \"model\", input_example=X_test[:1])\n",
    "    "
   ],
   "outputs": [
    {
     "name": "stderr",
     "output_type": "stream",
     "text": [
      "\u001B[31m2025/05/14 19:26:45 WARNING mlflow.models.model: Model logged without a signature and input example. Please set `input_example` parameter when logging the model to auto infer the model signature.\u001B[0m\n"
     ]
    },
    {
     "name": "stdout",
     "output_type": "stream",
     "text": [
      "Modelo Ridge guardado con R2: 1.00\n"
     ]
    },
    {
     "data": {
      "text/plain": [
       "<mlflow.models.model.ModelInfo at 0x17d0aed90>"
      ]
     },
     "execution_count": 32,
     "metadata": {},
     "output_type": "execute_result"
    }
   ],
   "execution_count": 32
  },
  {
   "cell_type": "markdown",
   "id": "41b572d6",
   "metadata": {},
   "source": [
    "## Experimento 2"
   ]
  },
  {
   "cell_type": "code",
   "id": "845e8909",
   "metadata": {
    "ExecuteTime": {
     "end_time": "2025-05-14T22:26:47.638020Z",
     "start_time": "2025-05-14T22:26:47.630319Z"
    }
   },
   "source": [
    "mlflow.set_experiment(\"Experimento 2\")"
   ],
   "outputs": [
    {
     "name": "stderr",
     "output_type": "stream",
     "text": [
      "2025/05/14 19:26:47 INFO mlflow.tracking.fluent: Experiment with name 'Experimento 2' does not exist. Creating a new experiment.\n"
     ]
    },
    {
     "data": {
      "text/plain": [
       "<Experiment: artifact_location='file:///Users/fmeola/git/MLOps/mlruns/179487443722420826', creation_time=1747261607634, experiment_id='179487443722420826', last_update_time=1747261607634, lifecycle_stage='active', name='Experimento 2', tags={}>"
      ]
     },
     "execution_count": 33,
     "metadata": {},
     "output_type": "execute_result"
    }
   ],
   "execution_count": 33
  },
  {
   "cell_type": "code",
   "id": "e9ca6bfe",
   "metadata": {
    "ExecuteTime": {
     "end_time": "2025-05-14T22:26:47.675172Z",
     "start_time": "2025-05-14T22:26:47.659483Z"
    }
   },
   "source": [
    "import mlflow\n",
    "import numpy as np\n",
    "\n",
    "mlflow.end_run()  \n",
    "with mlflow.start_run(run_name=\"training_with_curve\"):\n",
    "    for epoch in range(10):\n",
    "        # Simulación de loss que baja\n",
    "        loss = np.exp(-epoch / 5)\n",
    "\n",
    "        # Logueás la métrica con `step` para que MLflow genere la curva\n",
    "        mlflow.log_metric(\"loss\", loss, step=epoch)\n"
   ],
   "outputs": [],
   "execution_count": 34
  },
  {
   "cell_type": "markdown",
   "id": "d0fe5880",
   "metadata": {},
   "source": [
    "## Experimento 3"
   ]
  },
  {
   "cell_type": "code",
   "id": "4e4809f5",
   "metadata": {
    "ExecuteTime": {
     "end_time": "2025-05-14T22:26:47.703057Z",
     "start_time": "2025-05-14T22:26:47.689652Z"
    }
   },
   "source": [
    "mlflow.set_experiment(\"Experimento 3\")\n",
    "\n",
    "mlflow.set_tag(\"model_name\", \"RandomForest\")\n",
    "mlflow.set_tag(\"experiment\", \"baseline\")\n",
    "\n",
    "models = {\"LinearRegression\": LinearRegression(), \"Ridge\": Ridge(alpha=0.5)}\n",
    "\n"
   ],
   "outputs": [
    {
     "name": "stderr",
     "output_type": "stream",
     "text": [
      "2025/05/14 19:26:47 INFO mlflow.tracking.fluent: Experiment with name 'Experimento 3' does not exist. Creating a new experiment.\n"
     ]
    }
   ],
   "execution_count": 35
  },
  {
   "cell_type": "code",
   "id": "dd9b0482",
   "metadata": {
    "ExecuteTime": {
     "end_time": "2025-05-14T22:26:52.644057Z",
     "start_time": "2025-05-14T22:26:47.721250Z"
    }
   },
   "source": [
    "mlflow.end_run()\n",
    "for name, model in models.items():\n",
    "    with mlflow.start_run(run_name=name):\n",
    "        mlflow.set_tag(\"model_name\", name)\n",
    "\n",
    "        for epoch in range(10):\n",
    "            loss = np.exp(-epoch / 5)  # Ejemplo de pérdida\n",
    "            mlflow.log_metric(\"loss\", loss, step=epoch)\n",
    "\n",
    "        mlflow.sklearn.log_model(model, artifact_path=\"model\")\n",
    "\n"
   ],
   "outputs": [
    {
     "name": "stderr",
     "output_type": "stream",
     "text": [
      "\u001B[31m2025/05/14 19:26:50 WARNING mlflow.models.model: Model logged without a signature and input example. Please set `input_example` parameter when logging the model to auto infer the model signature.\u001B[0m\n",
      "\u001B[31m2025/05/14 19:26:52 WARNING mlflow.models.model: Model logged without a signature and input example. Please set `input_example` parameter when logging the model to auto infer the model signature.\u001B[0m\n"
     ]
    }
   ],
   "execution_count": 36
  },
  {
   "cell_type": "markdown",
   "id": "55b0f8a6",
   "metadata": {},
   "source": [
    "## Seleccionar el mejor modelo"
   ]
  },
  {
   "cell_type": "code",
   "id": "dd92e968",
   "metadata": {
    "ExecuteTime": {
     "end_time": "2025-05-14T22:26:59.024925Z",
     "start_time": "2025-05-14T22:26:52.663450Z"
    }
   },
   "source": [
    "mlflow.end_run()\n",
    "\n",
    "mlflow.set_experiment(\"Seleccionar mejor modelo\")\n",
    "\n",
    "import mlflow\n",
    "import mlflow.sklearn\n",
    "import numpy as np\n",
    "from sklearn.linear_model import LinearRegression, Ridge\n",
    "from sklearn.model_selection import train_test_split\n",
    "from sklearn.metrics import mean_squared_error\n",
    "\n",
    "# Datos ficticios\n",
    "X, y = make_regression(n_samples=100, n_features=1, noise=0.1, random_state=42)\n",
    "X_train, X_test, y_train, y_test = train_test_split(X, y, random_state=42)\n",
    "\n",
    "# Modelos a evaluar\n",
    "models = {\"LinearRegression\": LinearRegression(), \"Ridge\": Ridge(alpha=0.5)}\n",
    "\n",
    "best_model = None\n",
    "best_score = np.inf  # Mejor score encontrado (por ejemplo, R2 o MSE)\n",
    "\n",
    "# Comenzamos los experimentos para cada modelo\n",
    "for name, model in models.items():\n",
    "    with mlflow.start_run(run_name=name):\n",
    "        mlflow.set_tag(\"model_name\", name)\n",
    "\n",
    "        # Entrenamiento\n",
    "        model.fit(X_train, y_train)\n",
    "\n",
    "        # Predicciones y métricas\n",
    "        y_pred = model.predict(X_test)\n",
    "        score = mean_squared_error(y_test, y_pred)  # Usamos MSE como ejemplo\n",
    "        \n",
    "        # Registro de parámetros y métricas\n",
    "        mlflow.log_param(\"model_type\", name)\n",
    "        mlflow.log_metric(\"mse\", score)\n",
    "        \n",
    "        # Guardamos el modelo\n",
    "        mlflow.sklearn.log_model(model, artifact_path=\"model\")\n",
    "        \n",
    "        # Evaluamos cuál es el mejor modelo\n",
    "        if score < best_score:  # MSE más bajo es mejor\n",
    "            best_score = score\n",
    "            best_model = model\n",
    "            mlflow.log_param(\"best_model\", True)  # Marcamos el modelo ganador\n",
    "\n",
    "# Ahora puedes registrar el mejor modelo global\n",
    "if best_model:\n",
    "    with mlflow.start_run(run_name=\"Best_Model\"):\n",
    "        mlflow.log_param(\"best_model_name\", best_model.__class__.__name__)\n",
    "        mlflow.sklearn.log_model(best_model, artifact_path=\"best_model\")\n",
    "        print( best_model.__class__.__name__)\n",
    "best_model_to_save=best_model"
   ],
   "outputs": [
    {
     "name": "stderr",
     "output_type": "stream",
     "text": [
      "2025/05/14 19:26:52 INFO mlflow.tracking.fluent: Experiment with name 'Seleccionar mejor modelo' does not exist. Creating a new experiment.\n",
      "\u001B[31m2025/05/14 19:26:54 WARNING mlflow.models.model: Model logged without a signature and input example. Please set `input_example` parameter when logging the model to auto infer the model signature.\u001B[0m\n",
      "\u001B[31m2025/05/14 19:26:56 WARNING mlflow.models.model: Model logged without a signature and input example. Please set `input_example` parameter when logging the model to auto infer the model signature.\u001B[0m\n",
      "\u001B[31m2025/05/14 19:26:59 WARNING mlflow.models.model: Model logged without a signature and input example. Please set `input_example` parameter when logging the model to auto infer the model signature.\u001B[0m\n"
     ]
    },
    {
     "name": "stdout",
     "output_type": "stream",
     "text": [
      "LinearRegression\n"
     ]
    }
   ],
   "execution_count": 37
  },
  {
   "cell_type": "markdown",
   "id": "68240b70",
   "metadata": {},
   "source": [
    "## HYPERPARAMETER TUNING"
   ]
  },
  {
   "cell_type": "code",
   "id": "fb5de739",
   "metadata": {
    "ExecuteTime": {
     "end_time": "2025-05-14T22:27:01.293454Z",
     "start_time": "2025-05-14T22:26:59.046767Z"
    }
   },
   "source": [
    "mlflow.end_run()\n",
    "\n",
    "import mlflow\n",
    "import mlflow.sklearn\n",
    "from mlflow import log_param, log_metric, log_artifact\n",
    "\n",
    "from sklearn.datasets import load_diabetes\n",
    "from sklearn.model_selection import GridSearchCV\n",
    "from sklearn.linear_model import Ridge\n",
    "from sklearn.metrics import mean_squared_error\n",
    "from sklearn.model_selection import train_test_split\n",
    "\n",
    "import json\n",
    "import joblib\n",
    "\n",
    "# Cargar los datos\n",
    "X, y = load_diabetes(return_X_y=True)\n",
    "X_train, X_test, y_train, y_test = train_test_split(X, y, test_size=0.2, random_state=42)\n",
    "\n",
    "# Definir el modelo y el espacio de búsqueda\n",
    "model = Ridge()\n",
    "param_grid = {\n",
    "    'alpha': [0.1, 1.0, 10.0],\n",
    "    'solver': ['auto', 'svd']\n",
    "}\n",
    "\n",
    "# Configurar GridSearchCV\n",
    "grid_search = GridSearchCV(model, param_grid, cv=3, scoring=\"neg_mean_squared_error\", return_train_score=True)\n",
    "\n",
    "# Iniciar experimento en MLflow\n",
    "mlflow.set_experiment(\"Ridge Regression GridSearch\")\n",
    "with mlflow.start_run(run_name=\"GridSearchCV\") as run:\n",
    "    # Guardar el grid como parámetro\n",
    "    mlflow.log_param(\"param_grid\", param_grid)\n",
    "    \n",
    "    # Guardar el grid como archivo JSON\n",
    "    with open(\"param_grid.json\", \"w\") as f:\n",
    "        json.dump(param_grid, f)\n",
    "    mlflow.log_artifact(\"param_grid.json\")\n",
    "    \n",
    "    # Ejecutar GridSearch\n",
    "    grid_search.fit(X_train, y_train)\n",
    "        \n",
    "    # Loguear cada intento como sub-run\n",
    "    for i, params in enumerate(grid_search.cv_results_[\"params\"]):\n",
    "        with mlflow.start_run(run_name=f\"trial_{i}\", nested=True):\n",
    "            mlflow.log_params(params)\n",
    "            mlflow.log_metric(\"mean_test_score\", grid_search.cv_results_[\"mean_test_score\"][i])\n",
    "            mlflow.log_metric(\"mean_train_score\", grid_search.cv_results_[\"mean_train_score\"][i])\n",
    "    \n",
    "    # Evaluar el mejor modelo\n",
    "    best_model = grid_search.best_estimator_\n",
    "    y_pred = best_model.predict(X_test)\n",
    "    mse = mean_squared_error(y_test, y_pred)\n",
    "    mlflow.log_metric(\"test_mse\", mse)\n",
    "    \n",
    "    # Guardar el modelo y objeto grid_search completo\n",
    "    mlflow.sklearn.log_model(best_model, \"best_model\")\n",
    "    joblib.dump(grid_search, \"grid_search.pkl\")\n",
    "    mlflow.log_artifact(\"grid_search.pkl\")\n"
   ],
   "outputs": [
    {
     "name": "stderr",
     "output_type": "stream",
     "text": [
      "2025/05/14 19:26:59 INFO mlflow.tracking.fluent: Experiment with name 'Ridge Regression GridSearch' does not exist. Creating a new experiment.\n",
      "\u001B[31m2025/05/14 19:27:01 WARNING mlflow.models.model: Model logged without a signature and input example. Please set `input_example` parameter when logging the model to auto infer the model signature.\u001B[0m\n"
     ]
    }
   ],
   "execution_count": 38
  },
  {
   "cell_type": "markdown",
   "id": "fc8efb44",
   "metadata": {},
   "source": [
    "## 🧩 2. MLflow Projects\n",
    " \n",
    "### 📄 Descripción\n",
    "**MLflow Projects** define un estándar para empaquetar proyectos de ML, haciéndolos:\n",
    " - Reproducibles (cualquiera puede correrlo igual).\n",
    " - Ejecutables localmente o en la nube.\n",
    " - Versionables junto al código.\n",
    " \n",
    "<!-- Utiliza un archivo `MLproject` (YAML) para describir dependencias y comandos de entrada. -->\n"
   ]
  },
  {
   "cell_type": "code",
   "id": "0b21d838",
   "metadata": {
    "ExecuteTime": {
     "end_time": "2025-05-14T22:27:01.312881Z",
     "start_time": "2025-05-14T22:27:01.308446Z"
    }
   },
   "source": [
    "# Creamos un archivo MLproject para definir el proyecto\n",
    "\n",
    "project_yaml = \"\"\"\n",
    "name: simple_linear_regression\n",
    "conda_env: conda.yaml\n",
    "\n",
    "entry_points:\n",
    "  main:\n",
    "    parameters:\n",
    "      alpha: {type: float, default: 0.5}\n",
    "    command: \"python train.py --alpha {alpha}\"\n",
    "\"\"\"\n",
    "\n",
    "with open(\"MLproject\", \"w\") as f:\n",
    "    f.write(project_yaml)\n",
    "\n",
    "# Creamos un entorno conda de ejemplo\n",
    "conda_yaml = \"\"\"\n",
    "name: simple-mlflow-env\n",
    "dependencies:\n",
    "  - python=3.8\n",
    "  - scikit-learn\n",
    "  - pip\n",
    "  - pip:\n",
    "      - mlflow\n",
    "\"\"\"\n",
    "\n",
    "with open(\"conda.yaml\", \"w\") as f:\n",
    "    f.write(conda_yaml)\n",
    "\n",
    "print(\"Archivo MLproject y conda.yaml creados 🎯\")\n"
   ],
   "outputs": [
    {
     "name": "stdout",
     "output_type": "stream",
     "text": [
      "Archivo MLproject y conda.yaml creados 🎯\n"
     ]
    }
   ],
   "execution_count": 39
  },
  {
   "cell_type": "markdown",
   "id": "27d2eb29",
   "metadata": {},
   "source": [
    "## 🧩 3. MLflow Models\n",
    " \n",
    "### 📄 Descripción\n",
    "**MLflow Models** permite:\n",
    " - Guardar modelos entrenados en formatos estándar.\n",
    " - Cargarlos fácilmente para predicción o despliegue.\n",
    " - Exportarlos a múltiples plataformas (Docker, REST API, mobile)."
   ]
  },
  {
   "cell_type": "code",
   "id": "1eab7e4e",
   "metadata": {
    "ExecuteTime": {
     "end_time": "2025-05-14T23:29:34.779580Z",
     "start_time": "2025-05-14T23:29:31.735115Z"
    }
   },
   "source": [
    "### PARCHE\n",
    "# Datos ficticios\n",
    "X, y = make_regression(n_samples=100, n_features=1, noise=0.1, random_state=42)\n",
    "X_train, X_test, y_train, y_test = train_test_split(X, y, random_state=42)\n",
    "\n",
    "# 2. Guardar los datasets como CSV\n",
    "os.makedirs(\"data\", exist_ok=True)\n",
    "pd.DataFrame(X_train, columns=[\"x\"]).to_csv(\"data/X_train.csv\", index=False)\n",
    "pd.DataFrame(X_test, columns=[\"x\"]).to_csv(\"data/X_test.csv\", index=False)\n",
    "pd.DataFrame(y_train, columns=[\"y\"]).to_csv(\"data/y_train.csv\", index=False)\n",
    "pd.DataFrame(y_test, columns=[\"y\"]).to_csv(\"data/y_test.csv\", index=False)\n",
    "\n",
    "# Guardamos el modelo entrenado en disco\n",
    "model_path = \"outputs/linear_model\"\n",
    "mlflow.sklearn.save_model(best_model_to_save, model_path)\n",
    "\n",
    "# Cargamos el modelo desde disco\n",
    "loaded_model = mlflow.sklearn.load_model(model_path)\n",
    "\n",
    "# Realizamos una predicción de prueba\n",
    "prediction = loaded_model.predict(X_test[:2])\n",
    "print(\"Predicción ejemplo:\", prediction)\n"
   ],
   "outputs": [
    {
     "name": "stdout",
     "output_type": "stream",
     "text": [
      "Predicción ejemplo: [-55.4786619   61.72358202]\n"
     ]
    }
   ],
   "execution_count": 54
  },
  {
   "cell_type": "markdown",
   "id": "638c2eb6",
   "metadata": {},
   "source": [
    "## 🧩 4. MLflow Model Registry\n",
    " \n",
    "### 📄 Descripción\n",
    "**MLflow Model Registry** gestiona:\n",
    " - Versiones de modelos.\n",
    " - Etapas del ciclo de vida (Staging, Production, Archived).\n",
    " - Aprobaciones y revisiones de modelos.\n",
    " \n",
    " **Importante:** Para usarlo realmente se necesita un Tracking Server conectado a una base de datos.\n",
    " Aquí simulamos un ejemplo sencillo en local."
   ]
  },
  {
   "cell_type": "code",
   "id": "80e382fd",
   "metadata": {
    "ExecuteTime": {
     "end_time": "2025-05-14T23:29:37.647610Z",
     "start_time": "2025-05-14T23:29:37.629780Z"
    }
   },
   "source": [
    "import mlflow\n",
    "from mlflow.tracking import MlflowClient\n",
    "\n",
    "# Paso 1: Especificar el run_id y la ruta del modelo dentro del run\n",
    "# run_id = \"3035845eeb0b4e69a806867eb5e3b16a\"\n",
    "run_id = \"4539130de85b48f8a823401bc4dec118\"\n",
    "# model_path = \"best_mode\"  # o como lo hayas llamado: \"model\", \"sk_model\", etc.\n",
    "model_path = \"best_model\"  # o como lo hayas llamado: \"model\", \"sk_model\", etc.\n",
    "\n",
    "# Paso 2: Registrar el modelo\n",
    "model_uri = f\"runs:/{run_id}/{model_path}\"\n",
    "model_name = \"ridge_model_v1\"\n",
    "\n",
    "mlflow.register_model(model_uri=model_uri, name=model_name)\n",
    "model_name"
   ],
   "outputs": [
    {
     "name": "stderr",
     "output_type": "stream",
     "text": [
      "Registered model 'ridge_model_v1' already exists. Creating a new version of this model...\n",
      "Created version '3' of model 'ridge_model_v1'.\n"
     ]
    },
    {
     "data": {
      "text/plain": [
       "'ridge_model_v1'"
      ]
     },
     "execution_count": 55,
     "metadata": {},
     "output_type": "execute_result"
    }
   ],
   "execution_count": 55
  },
  {
   "cell_type": "code",
   "id": "40191139",
   "metadata": {
    "ExecuteTime": {
     "end_time": "2025-05-14T23:29:43.019896Z",
     "start_time": "2025-05-14T23:29:41.170401Z"
    }
   },
   "source": [
    "# Buscar si el experimento ya existe\n",
    "experiment_name = \"Experimento 1\"\n",
    "\n",
    "experiment = mlflow.get_experiment_by_name(experiment_name)\n",
    "\n",
    "if experiment is None:\n",
    "    experiment_id = mlflow.create_experiment(experiment_name)\n",
    "    print(f\"Experimento '{experiment_name}' creado 🎯\")\n",
    "else:\n",
    "    experiment_id = experiment.experiment_id\n",
    "    print(f\"Experimento '{experiment_name}' ya existía, usando id {experiment_id} ✔️\")\n",
    "\n",
    "# Seteamos el experimento como activo\n",
    "mlflow.set_experiment(experiment_name)\n",
    "\n",
    "# Registramos el modelo\n",
    "with mlflow.start_run(run_name=\"registry_test_run\"):\n",
    "    mlflow.sklearn.log_model(model, \"model\", registered_model_name=\"LinearRegressionModel\")\n",
    "\n"
   ],
   "outputs": [
    {
     "name": "stderr",
     "output_type": "stream",
     "text": [
      "2025/05/14 20:29:41 WARNING mlflow.sklearn: Model was missing function: predict. Not logging python_function flavor!\n"
     ]
    },
    {
     "name": "stdout",
     "output_type": "stream",
     "text": [
      "Experimento 'Experimento 1' ya existía, usando id 533253771556407989 ✔️\n"
     ]
    },
    {
     "name": "stderr",
     "output_type": "stream",
     "text": [
      "\u001B[31m2025/05/14 20:29:43 WARNING mlflow.models.model: Model logged without a signature and input example. Please set `input_example` parameter when logging the model to auto infer the model signature.\u001B[0m\n",
      "Registered model 'LinearRegressionModel' already exists. Creating a new version of this model...\n",
      "Created version '3' of model 'LinearRegressionModel'.\n"
     ]
    }
   ],
   "execution_count": 56
  },
  {
   "cell_type": "markdown",
   "id": "fe8cd406",
   "metadata": {},
   "source": [
    "## Buscar modelos"
   ]
  },
  {
   "cell_type": "code",
   "id": "31505f83",
   "metadata": {
    "ExecuteTime": {
     "end_time": "2025-05-14T23:29:44.418312Z",
     "start_time": "2025-05-14T23:29:44.410893Z"
    }
   },
   "source": [
    "import mlflow\n",
    "\n",
    "# Cliente de MLflow\n",
    "client = mlflow.tracking.MlflowClient()\n",
    "# Búsqueda de modelos con filtros\n",
    "models = client.search_registered_models(filter_string=\"name LIKE '%'\")\n",
    "for model in models:\n",
    "    print(model.name)"
   ],
   "outputs": [
    {
     "name": "stdout",
     "output_type": "stream",
     "text": [
      "LinearRegressionModel\n",
      "ridge_model_v1\n"
     ]
    }
   ],
   "execution_count": 57
  },
  {
   "cell_type": "markdown",
   "id": "c892e11d",
   "metadata": {},
   "source": [
    "\n",
    "## Usar el modelo"
   ]
  },
  {
   "cell_type": "code",
   "id": "080451f0",
   "metadata": {
    "ExecuteTime": {
     "end_time": "2025-05-14T23:36:18.046989Z",
     "start_time": "2025-05-14T23:36:17.967276Z"
    }
   },
   "source": [
    "import mlflow\n",
    "\n",
    "# Cargar desde una etapa específica (si usas ciclo de vida de MLflow)\n",
    "# loaded_model = mlflow.pyfunc.load_model(\"models:/Ridge/1\")  # Otras opciones: staging, archived\n",
    "loaded_model = mlflow.pyfunc.load_model(\"models:/ridge_model_v1/3\")  # Otras opciones: staging, archived\n",
    "\n",
    "# Usar el modelo para predicciones\n",
    "data= X_train[[0]]\n",
    "predictions = loaded_model.predict(data)\n",
    "predictions"
   ],
   "outputs": [
    {
     "data": {
      "text/plain": [
       "array([3.82860968])"
      ]
     },
     "execution_count": 63,
     "metadata": {},
     "output_type": "execute_result"
    }
   ],
   "execution_count": 63
  },
  {
   "cell_type": "code",
   "id": "244199bd",
   "metadata": {
    "ExecuteTime": {
     "end_time": "2025-05-14T23:36:18.066753Z",
     "start_time": "2025-05-14T23:36:18.061592Z"
    }
   },
   "source": [
    "%%writefile app.py\n",
    "\n",
    "import uvicorn\n",
    "import mlflow\n",
    "import numpy as np\n",
    "from fastapi import FastAPI, HTTPException\n",
    "from pydantic import BaseModel\n",
    "from typing import List\n",
    "\n",
    "# Crear la aplicación FastAPI\n",
    "app = FastAPI(title=\"Modelo ML API\", description=\"API para servir predicciones del modelo de MLflow\")\n",
    "\n",
    "# Acá va la configuración de CORS\n",
    "from fastapi.middleware.cors import CORSMiddleware\n",
    "\n",
    "app.add_middleware(\n",
    "    CORSMiddleware,\n",
    "    allow_origins=[\"*\"],  # O limitá a [\"http://localhost:8000\"] si querés\n",
    "    allow_credentials=True,\n",
    "    allow_methods=[\"*\"],\n",
    "    allow_headers=[\"*\"],\n",
    ")\n",
    "\n",
    "# Cargar el modelo al iniciar la aplicación\n",
    "# Reemplaza \"models:/nombre_modelo/version\" con tu ruta real\n",
    "model = mlflow.pyfunc.load_model(\"models:/ridge_model_v1/3\")\n",
    "\n",
    "# Definir el esquema de la solicitud\n",
    "class PredictionRequest(BaseModel):\n",
    "    features: List[List[float]]\n",
    "\n",
    "# Definir el esquema de la respuesta\n",
    "class PredictionResponse(BaseModel):\n",
    "    predictions: List\n",
    "\n",
    "@app.post(\"/predict\", response_model=PredictionResponse)\n",
    "def predict(request: PredictionRequest):\n",
    "    try:\n",
    "        # Convertir las características a un array numpy\n",
    "        features = np.array(request.features)\n",
    "        # Realizar la predicción\n",
    "        predictions = model.predict(features).tolist()\n",
    "        # Devolver las predicciones\n",
    "        return PredictionResponse(predictions=predictions)\n",
    "    except Exception as e:\n",
    "        raise HTTPException(status_code=500, detail=str(e))\n",
    "\n",
    "@app.get(\"/health\")\n",
    "def health():\n",
    "    return {\"status\": \"ok\"}\n",
    "\n"
   ],
   "outputs": [
    {
     "name": "stdout",
     "output_type": "stream",
     "text": [
      "Overwriting app.py\n"
     ]
    }
   ],
   "execution_count": 64
  },
  {
   "cell_type": "code",
   "id": "d0968254",
   "metadata": {
    "jupyter": {
     "is_executing": true
    },
    "ExecuteTime": {
     "start_time": "2025-05-14T23:36:18.872580Z"
    }
   },
   "source": [
    "import uvicorn\n",
    "import mlflow\n",
    "import numpy as np\n",
    "from fastapi import FastAPI, HTTPException\n",
    "from pydantic import BaseModel\n",
    "from typing import List\n",
    "\n",
    "uvicorn.run(\"app:app\", host=\"localhost\", port=7000, reload=True)\n",
    "#curl -X POST \"http://localhost:7000/predict\" -H \"Content-Type: application/json\" -d \"{\\\"features\\\": [[1.2], [3.5]]}\"\n"
   ],
   "outputs": [
    {
     "name": "stderr",
     "output_type": "stream",
     "text": [
      "INFO:     Will watch for changes in these directories: ['/Users/fmeola/git/MLOps']\n",
      "INFO:     Uvicorn running on http://localhost:7000 (Press CTRL+C to quit)\n",
      "INFO:     Started reloader process [13236] using WatchFiles\n",
      "INFO:watchfiles.main:1 change detected\n",
      "INFO:     Started server process [17561]\n",
      "INFO:     Waiting for application startup.\n",
      "INFO:     Application startup complete.\n"
     ]
    },
    {
     "name": "stdout",
     "output_type": "stream",
     "text": [
      "INFO:     127.0.0.1:58880 - \"POST /predict HTTP/1.1\" 200 OK\n"
     ]
    }
   ],
   "execution_count": null
  }
 ],
 "metadata": {
  "kernelspec": {
   "display_name": "ITBA",
   "language": "python",
   "name": "python3"
  },
  "language_info": {
   "codemirror_mode": {
    "name": "ipython",
    "version": 3
   },
   "file_extension": ".py",
   "mimetype": "text/x-python",
   "name": "python",
   "nbconvert_exporter": "python",
   "pygments_lexer": "ipython3",
   "version": "3.9.5"
  }
 },
 "nbformat": 4,
 "nbformat_minor": 5
}
